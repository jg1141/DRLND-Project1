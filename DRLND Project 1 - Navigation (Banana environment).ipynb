{
 "cells": [
  {
   "cell_type": "markdown",
   "metadata": {},
   "source": [
    "# DRLND Project 1 - Navigation (Banana environment)\n",
    "\n",
    "This notebook presents a solution to the [Udacity Deep Reinforcement Learning Nanodegree](https://www.udacity.com/course/deep-reinforcement-learning-nanodegree--nd893) Project 1 - Navigation of the [Unity3D](https://unity3d.com/machine-learning/) [Udacity Banana environment (Mac version)](https://s3-us-west-1.amazonaws.com/udacity-drlnd/P1/Banana/Banana.app.zip) (a version of the [Unity Banana Collector](https://github.com/Unity-Technologies/ml-agents/blob/master/docs/Learning-Environment-Examples.md) environment [shown here](https://youtu.be/heVMs3t9qSk) modified for a single agent) where the goal is to navigate using four actions:\n",
    "\n",
    "- `0` - walk forward \n",
    "- `1` - walk backward\n",
    "- `2` - turn left\n",
    "- `3` - turn right\n",
    "\n",
    "to collect as many YELLOW bananas as possible while avoiding BLUE bananas (see image of environment below). "
   ]
  },
  {
   "cell_type": "markdown",
   "metadata": {},
   "source": [
    "<img src=\"Unity3D Banana environment.png\" width=400px>"
   ]
  },
  {
   "cell_type": "markdown",
   "metadata": {},
   "source": [
    "The solution is patterned on [udacity/deep-reinforcement-learning](https://github.com/udacity/deep-reinforcement-learning/tree/master/dqn/solution) and thus has files:\n",
    "- `DRLND Project 1 - Navigation (Banana environment).ipynb` (this notebook)\n",
    "- `dqn_agent.py` - specifies methods of the **Agent** class including choice of action and learning method  \n",
    "- `model.py` - specifies **QNetwork** architecture\n",
    "\n",
    "As per the project [rubric](https://review.udacity.com/#!/rubrics/1889/view), this repository also contains files:\n",
    "- `README.md` - with setup instructions\n",
    "- `REPORT.md` - describes the learning algorithm, hyperparameters and model architecture"
   ]
  },
  {
   "cell_type": "markdown",
   "metadata": {},
   "source": [
    "### 1. Start the Environment\n",
    "\n",
    "We begin by importing some necessary packages.  If the code cell below returns an error, please revisit the project instructions to double-check that you have installed [Unity ML-Agents](https://github.com/Unity-Technologies/ml-agents/blob/master/docs/Installation.md) and [NumPy](http://www.numpy.org/)."
   ]
  },
  {
   "cell_type": "code",
   "execution_count": 1,
   "metadata": {},
   "outputs": [],
   "source": [
    "from unityagents import UnityEnvironment\n",
    "import numpy as np"
   ]
  },
  {
   "cell_type": "markdown",
   "metadata": {},
   "source": [
    "If you are using a Mac, then you downloaded `Banana.app`.  If this file is in the same folder as the notebook, then the line below should appear as follows:\n",
    "```\n",
    "env = UnityEnvironment(file_name=\"Banana.app\")\n",
    "```\n",
    "\n",
    "The **UnityEnvironment** class, including the **no_graphics** flag, is defined [here](https://github.com/udacity/deep-reinforcement-learning/blob/master/python/unityagents/environment.py)."
   ]
  },
  {
   "cell_type": "code",
   "execution_count": 2,
   "metadata": {},
   "outputs": [
    {
     "name": "stderr",
     "output_type": "stream",
     "text": [
      "INFO:unityagents:\n",
      "'Academy' started successfully!\n",
      "Unity Academy name: Academy\n",
      "        Number of Brains: 1\n",
      "        Number of External Brains : 1\n",
      "        Lesson number : 0\n",
      "        Reset Parameters :\n",
      "\t\t\n",
      "Unity brain name: BananaBrain\n",
      "        Number of Visual Observations (per agent): 0\n",
      "        Vector Observation space type: continuous\n",
      "        Vector Observation space size (per agent): 37\n",
      "        Number of stacked Vector Observation: 1\n",
      "        Vector Action space type: discrete\n",
      "        Vector Action space size (per agent): 4\n",
      "        Vector Action descriptions: , , , \n"
     ]
    }
   ],
   "source": [
    "env = UnityEnvironment(file_name=\"/Users/johngraves/Documents/20180711/deep-reinforcement-learning/p1_navigation/Banana.app\",\n",
    "                      no_graphics=True)"
   ]
  },
  {
   "cell_type": "markdown",
   "metadata": {},
   "source": [
    "Unity environments offer a variety of methods:"
   ]
  },
  {
   "cell_type": "code",
   "execution_count": 3,
   "metadata": {},
   "outputs": [
    {
     "name": "stdout",
     "output_type": "stream",
     "text": [
      "academy_name\n",
      "brain_names\n",
      "brains\n",
      "close\n",
      "communicator\n",
      "curriculum\n",
      "executable_launcher\n",
      "external_brain_names\n",
      "get_communicator\n",
      "global_done\n",
      "logfile_path\n",
      "number_brains\n",
      "number_external_brains\n",
      "port\n",
      "proc1\n",
      "reset\n",
      "send_academy_parameters\n",
      "step\n",
      "wrap_unity_input\n"
     ]
    }
   ],
   "source": [
    "_ = [print(item) for item in dir(env) if not item.startswith('_')]"
   ]
  },
  {
   "cell_type": "markdown",
   "metadata": {},
   "source": [
    "Environments contain **brains** which are responsible for deciding the actions of their associated agents. Here we check for the first brain available, and set it as the default brain we will be controlling from Python."
   ]
  },
  {
   "cell_type": "code",
   "execution_count": 4,
   "metadata": {},
   "outputs": [],
   "source": [
    "# get the default brain\n",
    "brain_name = env.brain_names[0]\n",
    "brain = env.brains[brain_name]"
   ]
  },
  {
   "cell_type": "markdown",
   "metadata": {},
   "source": [
    "### 2. Examine the State and Action Spaces"
   ]
  },
  {
   "cell_type": "code",
   "execution_count": 5,
   "metadata": {},
   "outputs": [
    {
     "name": "stdout",
     "output_type": "stream",
     "text": [
      "Number of agents: 1\n",
      "Number of actions: 4\n",
      "States look like:\n",
      "0 1.0\n",
      "1 0.0\n",
      "2 0.0\n",
      "3 0.0\n",
      "4 0.8440813422203064\n",
      "5 0.0\n",
      "6 0.0\n",
      "7 1.0\n",
      "8 0.0\n",
      "9 0.07484719902276993\n",
      "10 0.0\n",
      "11 1.0\n",
      "12 0.0\n",
      "13 0.0\n",
      "14 0.2575500011444092\n",
      "15 1.0\n",
      "16 0.0\n",
      "17 0.0\n",
      "18 0.0\n",
      "19 0.7417734265327454\n",
      "20 0.0\n",
      "21 1.0\n",
      "22 0.0\n",
      "23 0.0\n",
      "24 0.25854846835136414\n",
      "25 0.0\n",
      "26 0.0\n",
      "27 1.0\n",
      "28 0.0\n",
      "29 0.0935567170381546\n",
      "30 0.0\n",
      "31 1.0\n",
      "32 0.0\n",
      "33 0.0\n",
      "34 0.3196934461593628\n",
      "35 0.0\n",
      "36 0.0\n",
      "States have length: 37\n"
     ]
    }
   ],
   "source": [
    "# reset the environment\n",
    "env_info = env.reset(train_mode=True)[brain_name]\n",
    "\n",
    "# number of agents in the environment\n",
    "print('Number of agents:', len(env_info.agents))\n",
    "\n",
    "# number of actions\n",
    "action_size = brain.vector_action_space_size\n",
    "print('Number of actions:', action_size)\n",
    "\n",
    "# examine the state space \n",
    "state = env_info.vector_observations[0]\n",
    "print('States look like:')\n",
    "_ = [print(index,value) for index, value in enumerate(state)]\n",
    "\n",
    "state_size = len(state)\n",
    "print('States have length:', state_size)"
   ]
  },
  {
   "cell_type": "markdown",
   "metadata": {},
   "source": [
    "### 3. Take Random Actions in the Environment\n",
    "This code cell shows how to use the Python API to control the agent and receive feedback from the environment.\n",
    "\n",
    "Once this cell is executed, you will wait while the agent performs, selecting an action (uniformly) at random with each time step. A **Score** is returned at the end, representing the number of YELLOW bananas collected minus the number of BLUE bananas collected."
   ]
  },
  {
   "cell_type": "code",
   "execution_count": 6,
   "metadata": {},
   "outputs": [
    {
     "name": "stdout",
     "output_type": "stream",
     "text": [
      "Score: 0.0\n"
     ]
    }
   ],
   "source": [
    "env_info = env.reset(train_mode=False)[brain_name] # reset the environment\n",
    "state = env_info.vector_observations[0]            # get the current state\n",
    "score = 0                                          # initialize the score\n",
    "while True:\n",
    "    action = np.random.randint(action_size)        # select an action\n",
    "    env_info = env.step(action)[brain_name]        # send the action to the environment\n",
    "    next_state = env_info.vector_observations[0]   # get the next state\n",
    "    reward = env_info.rewards[0]                   # get the reward\n",
    "    done = env_info.local_done[0]                  # see if episode has finished\n",
    "    score += reward                                # update the score\n",
    "    state = next_state                             # roll over the state to next time step\n",
    "    if done:                                       # exit loop if episode finished\n",
    "        break\n",
    "    \n",
    "print(\"Score: {}\".format(score))"
   ]
  },
  {
   "cell_type": "markdown",
   "metadata": {},
   "source": [
    "### 4. Training"
   ]
  },
  {
   "cell_type": "code",
   "execution_count": 7,
   "metadata": {},
   "outputs": [
    {
     "name": "stdout",
     "output_type": "stream",
     "text": [
      "Episode 100\tAverage Score: 1.35\n",
      "Episode 200\tAverage Score: 4.32\n",
      "Episode 300\tAverage Score: 7.69\n",
      "Episode 400\tAverage Score: 10.44\n",
      "Episode 474\tAverage Score: 13.01\n",
      "Environment solved in 474 episodes!\tAverage Score: 13.01\n",
      "Episode 500\tAverage Score: 13.14\n",
      "Episode 600\tAverage Score: 13.74\n",
      "Episode 700\tAverage Score: 13.15\n",
      "Episode 800\tAverage Score: 13.93\n",
      "Episode 900\tAverage Score: 13.92\n",
      "Episode 1000\tAverage Score: 15.87\n",
      "Episode 1100\tAverage Score: 14.30\n",
      "Episode 1200\tAverage Score: 13.73\n",
      "Episode 1300\tAverage Score: 16.10\n",
      "Episode 1400\tAverage Score: 15.36\n",
      "Episode 1500\tAverage Score: 14.99\n",
      "Episode 1600\tAverage Score: 16.36\n",
      "Episode 1700\tAverage Score: 15.48\n",
      "Episode 1800\tAverage Score: 14.62\n",
      "Episode 1900\tAverage Score: 14.26\n",
      "Episode 2000\tAverage Score: 14.94\n",
      "\n",
      "Environment score after 2000 episodes!\tAverage Score: 14.94\n",
      "\n",
      "Environment max score in 1603 episode!\tBest Score: 16.40\n"
     ]
    },
    {
     "data": {
      "image/png": "[encoded data removed]",
      "text/plain": [
       "<matplotlib.figure.Figure at 0xa0cb57208>"
      ]
     },
     "metadata": {},
     "output_type": "display_data"
    }
   ],
   "source": [
    "from dqn_agent import Agent\n",
    "import torch\n",
    "from collections import deque\n",
    "import matplotlib.pyplot as plt\n",
    "%matplotlib inline\n",
    "\n",
    "agent = Agent(state_size=len(env_info.vector_observations[0]),\n",
    "              action_size=brain.vector_action_space_size,\n",
    "              seed=0)\n",
    "def dqn(n_episodes=2000, \n",
    "        max_t=1000, \n",
    "        eps_start=1.0, \n",
    "        eps_end=0.01, \n",
    "        eps_decay=0.995):\n",
    "    \"\"\"Deep Q-Learning.\n",
    "    \n",
    "    Params\n",
    "    ======\n",
    "        n_episodes (int): maximum number of training episodes\n",
    "        max_t (int): maximum number of timesteps per episode\n",
    "        eps_start (float): starting value of epsilon, for epsilon-greedy action selection\n",
    "        eps_end (float): minimum value of epsilon\n",
    "        eps_decay (float): multiplicative factor (per episode) for decreasing epsilon\n",
    "    \"\"\"\n",
    "    scores = []                        # list containing scores from each episode\n",
    "    scores_window = deque(maxlen=100)  # last 100 scores\n",
    "    eps = eps_start                    # initialize epsilon\n",
    "    solved = False\n",
    "    max_score = -9999\n",
    "    best_episode = -1\n",
    "    \n",
    "    for i_episode in range(1, n_episodes+1):\n",
    "        env_info = env.reset(train_mode=True)[brain_name]\n",
    "        state = env_info.vector_observations[0]\n",
    "        score = 0\n",
    "        for t in range(max_t):\n",
    "            action = agent.act(state, eps)\n",
    "            \n",
    "            env_info = env.step(action)[brain_name]\n",
    "            next_state = env_info.vector_observations[0]   # get the next state\n",
    "            reward = env_info.rewards[0]                   # get the reward\n",
    "            done = env_info.local_done[0]                  # see if episode has finished\n",
    "            \n",
    "            agent.step(state, action, reward, next_state, done)\n",
    "            state = next_state\n",
    "            score += reward\n",
    "            if done:\n",
    "                break \n",
    "        scores_window.append(score)       # save most recent score\n",
    "        scores.append(score)              # save most recent score\n",
    "        eps = max(eps_end, eps_decay*eps) # decrease epsilon\n",
    "        \n",
    "        print('\\rEpisode {}\\tAverage Score: {:.2f}'.format(i_episode, np.mean(scores_window)), end=\"\")\n",
    "        \n",
    "        if np.mean(scores_window) > max_score:\n",
    "            max_score = np.mean(scores_window)\n",
    "            best_episode = i_episode\n",
    "            \n",
    "        if i_episode % 100 == 0:\n",
    "            print('\\rEpisode {}\\tAverage Score: {:.2f}'.format(i_episode, np.mean(scores_window)))\n",
    "            \n",
    "        if not solved and np.mean(scores_window)>=13.0:\n",
    "            solved = True\n",
    "            print('\\nEnvironment solved in {:d} episodes!\\tAverage Score: {:.2f}'.format(i_episode,\n",
    "                                                                                         np.mean(scores_window)))\n",
    "            torch.save(agent.qnetwork_local.state_dict(), 'checkpoint.pth')          \n",
    "        elif i_episode == n_episodes:\n",
    "            print('\\nEnvironment score after {:d} episodes!\\tAverage Score: {:.2f}'.format(i_episode,\n",
    "                                                                                           np.mean(scores_window)))\n",
    "            torch.save(agent.qnetwork_local.state_dict(), 'checkpoint_final.pth')\n",
    "    \n",
    "    if not solved:\n",
    "        torch.save(agent.qnetwork_local.state_dict(), 'checkpoint_final_not_solved.pth')\n",
    "    print('\\nEnvironment max score in {:d} episode!\\tBest Score: {:.2f}'.format(best_episode, max_score))\n",
    "    return scores\n",
    "\n",
    "scores = dqn()\n",
    "\n",
    "# plot the scores\n",
    "fig = plt.figure()\n",
    "ax = fig.add_subplot(111)\n",
    "plt.plot(np.arange(len(scores)), scores)\n",
    "plt.ylabel('Score')\n",
    "plt.xlabel('Episode #')\n",
    "plt.show()"
   ]
  },
  {
   "cell_type": "markdown",
   "metadata": {},
   "source": [
    "### 5. Test"
   ]
  },
  {
   "cell_type": "code",
   "execution_count": 10,
   "metadata": {},
   "outputs": [
    {
     "name": "stdout",
     "output_type": "stream",
     "text": [
      "Final Score: 17.0\n"
     ]
    }
   ],
   "source": [
    "agent.qnetwork_local.load_state_dict(torch.load('checkpoint_final.pth'))\n",
    "\n",
    "env_info = env.reset(train_mode=False)[brain_name] # reset the environment\n",
    "state = env_info.vector_observations[0]            # get the current state\n",
    "score = 0                                          # initialize the score\n",
    "while True:\n",
    "    action = agent.act(state, 0.01)                # select an action using final policy\n",
    "    env_info = env.step(action)[brain_name]        # send the action to the environment\n",
    "    next_state = env_info.vector_observations[0]   # get the next state\n",
    "    reward = env_info.rewards[0]                   # get the reward\n",
    "    done = env_info.local_done[0]                  # see if episode has finished\n",
    "    score += reward                                # update the score\n",
    "    state = next_state                             # roll over the state to next time step\n",
    "    if done:                                       # exit loop if episode finished\n",
    "        break\n",
    "    \n",
    "print(\"Final Score: {}\".format(score))"
   ]
  }
 ],
 "metadata": {
  "kernelspec": {
   "display_name": "drlnd",
   "language": "python",
   "name": "drlnd"
  },
  "language_info": {
   "codemirror_mode": {
    "name": "ipython",
    "version": 3
   },
   "file_extension": ".py",
   "mimetype": "text/x-python",
   "name": "python",
   "nbconvert_exporter": "python",
   "pygments_lexer": "ipython3",
   "version": "3.6.3"
  }
 },
 "nbformat": 4,
 "nbformat_minor": 2
}
